{
  "nbformat": 4,
  "nbformat_minor": 0,
  "metadata": {
    "colab": {
      "provenance": [],
      "gpuType": "T4",
      "include_colab_link": true
    },
    "kernelspec": {
      "name": "python3",
      "display_name": "Python 3"
    },
    "language_info": {
      "name": "python"
    },
    "accelerator": "GPU",
    "widgets": {
      "application/vnd.jupyter.widget-state+json": {
        "29dcd74c785d45989044aede9a408901": {
          "model_module": "@jupyter-widgets/controls",
          "model_name": "HBoxModel",
          "model_module_version": "1.5.0",
          "state": {
            "_dom_classes": [],
            "_model_module": "@jupyter-widgets/controls",
            "_model_module_version": "1.5.0",
            "_model_name": "HBoxModel",
            "_view_count": null,
            "_view_module": "@jupyter-widgets/controls",
            "_view_module_version": "1.5.0",
            "_view_name": "HBoxView",
            "box_style": "",
            "children": [
              "IPY_MODEL_9b2cd0a0d1e74f418b936b596d15df17",
              "IPY_MODEL_be0996be15904f768a3b20fd41c9d4ee",
              "IPY_MODEL_bb240868315e4541bc4d694f1f9e1c43"
            ],
            "layout": "IPY_MODEL_3083c2a208f147039f771b052f27e503"
          }
        },
        "9b2cd0a0d1e74f418b936b596d15df17": {
          "model_module": "@jupyter-widgets/controls",
          "model_name": "HTMLModel",
          "model_module_version": "1.5.0",
          "state": {
            "_dom_classes": [],
            "_model_module": "@jupyter-widgets/controls",
            "_model_module_version": "1.5.0",
            "_model_name": "HTMLModel",
            "_view_count": null,
            "_view_module": "@jupyter-widgets/controls",
            "_view_module_version": "1.5.0",
            "_view_name": "HTMLView",
            "description": "",
            "description_tooltip": null,
            "layout": "IPY_MODEL_115bb109e0b7474dad783bf5f1149202",
            "placeholder": "​",
            "style": "IPY_MODEL_b98fac1132d64182855204034ba50e12",
            "value": "Map: 100%"
          }
        },
        "be0996be15904f768a3b20fd41c9d4ee": {
          "model_module": "@jupyter-widgets/controls",
          "model_name": "FloatProgressModel",
          "model_module_version": "1.5.0",
          "state": {
            "_dom_classes": [],
            "_model_module": "@jupyter-widgets/controls",
            "_model_module_version": "1.5.0",
            "_model_name": "FloatProgressModel",
            "_view_count": null,
            "_view_module": "@jupyter-widgets/controls",
            "_view_module_version": "1.5.0",
            "_view_name": "ProgressView",
            "bar_style": "success",
            "description": "",
            "description_tooltip": null,
            "layout": "IPY_MODEL_e93ea20d4bee4497aa03b5c772305b02",
            "max": 1,
            "min": 0,
            "orientation": "horizontal",
            "style": "IPY_MODEL_3388359b483b42fb90748e394b6faaf2",
            "value": 1
          }
        },
        "bb240868315e4541bc4d694f1f9e1c43": {
          "model_module": "@jupyter-widgets/controls",
          "model_name": "HTMLModel",
          "model_module_version": "1.5.0",
          "state": {
            "_dom_classes": [],
            "_model_module": "@jupyter-widgets/controls",
            "_model_module_version": "1.5.0",
            "_model_name": "HTMLModel",
            "_view_count": null,
            "_view_module": "@jupyter-widgets/controls",
            "_view_module_version": "1.5.0",
            "_view_name": "HTMLView",
            "description": "",
            "description_tooltip": null,
            "layout": "IPY_MODEL_32a1902615ca470cb45a091ba82645ea",
            "placeholder": "​",
            "style": "IPY_MODEL_c063bf27604f4a9083d369b3dd09aed4",
            "value": " 1/1 [00:01&lt;00:00,  1.56s/ examples]"
          }
        },
        "3083c2a208f147039f771b052f27e503": {
          "model_module": "@jupyter-widgets/base",
          "model_name": "LayoutModel",
          "model_module_version": "1.2.0",
          "state": {
            "_model_module": "@jupyter-widgets/base",
            "_model_module_version": "1.2.0",
            "_model_name": "LayoutModel",
            "_view_count": null,
            "_view_module": "@jupyter-widgets/base",
            "_view_module_version": "1.2.0",
            "_view_name": "LayoutView",
            "align_content": null,
            "align_items": null,
            "align_self": null,
            "border": null,
            "bottom": null,
            "display": null,
            "flex": null,
            "flex_flow": null,
            "grid_area": null,
            "grid_auto_columns": null,
            "grid_auto_flow": null,
            "grid_auto_rows": null,
            "grid_column": null,
            "grid_gap": null,
            "grid_row": null,
            "grid_template_areas": null,
            "grid_template_columns": null,
            "grid_template_rows": null,
            "height": null,
            "justify_content": null,
            "justify_items": null,
            "left": null,
            "margin": null,
            "max_height": null,
            "max_width": null,
            "min_height": null,
            "min_width": null,
            "object_fit": null,
            "object_position": null,
            "order": null,
            "overflow": null,
            "overflow_x": null,
            "overflow_y": null,
            "padding": null,
            "right": null,
            "top": null,
            "visibility": null,
            "width": null
          }
        },
        "115bb109e0b7474dad783bf5f1149202": {
          "model_module": "@jupyter-widgets/base",
          "model_name": "LayoutModel",
          "model_module_version": "1.2.0",
          "state": {
            "_model_module": "@jupyter-widgets/base",
            "_model_module_version": "1.2.0",
            "_model_name": "LayoutModel",
            "_view_count": null,
            "_view_module": "@jupyter-widgets/base",
            "_view_module_version": "1.2.0",
            "_view_name": "LayoutView",
            "align_content": null,
            "align_items": null,
            "align_self": null,
            "border": null,
            "bottom": null,
            "display": null,
            "flex": null,
            "flex_flow": null,
            "grid_area": null,
            "grid_auto_columns": null,
            "grid_auto_flow": null,
            "grid_auto_rows": null,
            "grid_column": null,
            "grid_gap": null,
            "grid_row": null,
            "grid_template_areas": null,
            "grid_template_columns": null,
            "grid_template_rows": null,
            "height": null,
            "justify_content": null,
            "justify_items": null,
            "left": null,
            "margin": null,
            "max_height": null,
            "max_width": null,
            "min_height": null,
            "min_width": null,
            "object_fit": null,
            "object_position": null,
            "order": null,
            "overflow": null,
            "overflow_x": null,
            "overflow_y": null,
            "padding": null,
            "right": null,
            "top": null,
            "visibility": null,
            "width": null
          }
        },
        "b98fac1132d64182855204034ba50e12": {
          "model_module": "@jupyter-widgets/controls",
          "model_name": "DescriptionStyleModel",
          "model_module_version": "1.5.0",
          "state": {
            "_model_module": "@jupyter-widgets/controls",
            "_model_module_version": "1.5.0",
            "_model_name": "DescriptionStyleModel",
            "_view_count": null,
            "_view_module": "@jupyter-widgets/base",
            "_view_module_version": "1.2.0",
            "_view_name": "StyleView",
            "description_width": ""
          }
        },
        "e93ea20d4bee4497aa03b5c772305b02": {
          "model_module": "@jupyter-widgets/base",
          "model_name": "LayoutModel",
          "model_module_version": "1.2.0",
          "state": {
            "_model_module": "@jupyter-widgets/base",
            "_model_module_version": "1.2.0",
            "_model_name": "LayoutModel",
            "_view_count": null,
            "_view_module": "@jupyter-widgets/base",
            "_view_module_version": "1.2.0",
            "_view_name": "LayoutView",
            "align_content": null,
            "align_items": null,
            "align_self": null,
            "border": null,
            "bottom": null,
            "display": null,
            "flex": null,
            "flex_flow": null,
            "grid_area": null,
            "grid_auto_columns": null,
            "grid_auto_flow": null,
            "grid_auto_rows": null,
            "grid_column": null,
            "grid_gap": null,
            "grid_row": null,
            "grid_template_areas": null,
            "grid_template_columns": null,
            "grid_template_rows": null,
            "height": null,
            "justify_content": null,
            "justify_items": null,
            "left": null,
            "margin": null,
            "max_height": null,
            "max_width": null,
            "min_height": null,
            "min_width": null,
            "object_fit": null,
            "object_position": null,
            "order": null,
            "overflow": null,
            "overflow_x": null,
            "overflow_y": null,
            "padding": null,
            "right": null,
            "top": null,
            "visibility": null,
            "width": null
          }
        },
        "3388359b483b42fb90748e394b6faaf2": {
          "model_module": "@jupyter-widgets/controls",
          "model_name": "ProgressStyleModel",
          "model_module_version": "1.5.0",
          "state": {
            "_model_module": "@jupyter-widgets/controls",
            "_model_module_version": "1.5.0",
            "_model_name": "ProgressStyleModel",
            "_view_count": null,
            "_view_module": "@jupyter-widgets/base",
            "_view_module_version": "1.2.0",
            "_view_name": "StyleView",
            "bar_color": null,
            "description_width": ""
          }
        },
        "32a1902615ca470cb45a091ba82645ea": {
          "model_module": "@jupyter-widgets/base",
          "model_name": "LayoutModel",
          "model_module_version": "1.2.0",
          "state": {
            "_model_module": "@jupyter-widgets/base",
            "_model_module_version": "1.2.0",
            "_model_name": "LayoutModel",
            "_view_count": null,
            "_view_module": "@jupyter-widgets/base",
            "_view_module_version": "1.2.0",
            "_view_name": "LayoutView",
            "align_content": null,
            "align_items": null,
            "align_self": null,
            "border": null,
            "bottom": null,
            "display": null,
            "flex": null,
            "flex_flow": null,
            "grid_area": null,
            "grid_auto_columns": null,
            "grid_auto_flow": null,
            "grid_auto_rows": null,
            "grid_column": null,
            "grid_gap": null,
            "grid_row": null,
            "grid_template_areas": null,
            "grid_template_columns": null,
            "grid_template_rows": null,
            "height": null,
            "justify_content": null,
            "justify_items": null,
            "left": null,
            "margin": null,
            "max_height": null,
            "max_width": null,
            "min_height": null,
            "min_width": null,
            "object_fit": null,
            "object_position": null,
            "order": null,
            "overflow": null,
            "overflow_x": null,
            "overflow_y": null,
            "padding": null,
            "right": null,
            "top": null,
            "visibility": null,
            "width": null
          }
        },
        "c063bf27604f4a9083d369b3dd09aed4": {
          "model_module": "@jupyter-widgets/controls",
          "model_name": "DescriptionStyleModel",
          "model_module_version": "1.5.0",
          "state": {
            "_model_module": "@jupyter-widgets/controls",
            "_model_module_version": "1.5.0",
            "_model_name": "DescriptionStyleModel",
            "_view_count": null,
            "_view_module": "@jupyter-widgets/base",
            "_view_module_version": "1.2.0",
            "_view_name": "StyleView",
            "description_width": ""
          }
        },
        "cca9dc838c974ac7b8b69b5183341800": {
          "model_module": "@jupyter-widgets/controls",
          "model_name": "HBoxModel",
          "model_module_version": "1.5.0",
          "state": {
            "_dom_classes": [],
            "_model_module": "@jupyter-widgets/controls",
            "_model_module_version": "1.5.0",
            "_model_name": "HBoxModel",
            "_view_count": null,
            "_view_module": "@jupyter-widgets/controls",
            "_view_module_version": "1.5.0",
            "_view_name": "HBoxView",
            "box_style": "",
            "children": [
              "IPY_MODEL_b59edcada623471592959aa0eb7db478",
              "IPY_MODEL_3ea74d5c0e374063998791e08f235b0d",
              "IPY_MODEL_1c72d3cdca8c4c8c900019644f8b5483"
            ],
            "layout": "IPY_MODEL_c312a1a143f64329a1d42f2a30c17afd"
          }
        },
        "b59edcada623471592959aa0eb7db478": {
          "model_module": "@jupyter-widgets/controls",
          "model_name": "HTMLModel",
          "model_module_version": "1.5.0",
          "state": {
            "_dom_classes": [],
            "_model_module": "@jupyter-widgets/controls",
            "_model_module_version": "1.5.0",
            "_model_name": "HTMLModel",
            "_view_count": null,
            "_view_module": "@jupyter-widgets/controls",
            "_view_module_version": "1.5.0",
            "_view_name": "HTMLView",
            "description": "",
            "description_tooltip": null,
            "layout": "IPY_MODEL_7fa4d99d21f4431bb9643f728792e4eb",
            "placeholder": "​",
            "style": "IPY_MODEL_f7384d017ac8465fa04bd59ae1cc0f1a",
            "value": "Map: 100%"
          }
        },
        "3ea74d5c0e374063998791e08f235b0d": {
          "model_module": "@jupyter-widgets/controls",
          "model_name": "FloatProgressModel",
          "model_module_version": "1.5.0",
          "state": {
            "_dom_classes": [],
            "_model_module": "@jupyter-widgets/controls",
            "_model_module_version": "1.5.0",
            "_model_name": "FloatProgressModel",
            "_view_count": null,
            "_view_module": "@jupyter-widgets/controls",
            "_view_module_version": "1.5.0",
            "_view_name": "ProgressView",
            "bar_style": "success",
            "description": "",
            "description_tooltip": null,
            "layout": "IPY_MODEL_db82d900130742dfbc1cb7564fe2a44f",
            "max": 1,
            "min": 0,
            "orientation": "horizontal",
            "style": "IPY_MODEL_540e6798d1ee4db090191422077c7448",
            "value": 1
          }
        },
        "1c72d3cdca8c4c8c900019644f8b5483": {
          "model_module": "@jupyter-widgets/controls",
          "model_name": "HTMLModel",
          "model_module_version": "1.5.0",
          "state": {
            "_dom_classes": [],
            "_model_module": "@jupyter-widgets/controls",
            "_model_module_version": "1.5.0",
            "_model_name": "HTMLModel",
            "_view_count": null,
            "_view_module": "@jupyter-widgets/controls",
            "_view_module_version": "1.5.0",
            "_view_name": "HTMLView",
            "description": "",
            "description_tooltip": null,
            "layout": "IPY_MODEL_4c49b2e9069c4b87a18b33180a5f3ad1",
            "placeholder": "​",
            "style": "IPY_MODEL_4f49297e9e794c00b0a07c43cf399871",
            "value": " 1/1 [00:00&lt;00:00,  7.20 examples/s]"
          }
        },
        "c312a1a143f64329a1d42f2a30c17afd": {
          "model_module": "@jupyter-widgets/base",
          "model_name": "LayoutModel",
          "model_module_version": "1.2.0",
          "state": {
            "_model_module": "@jupyter-widgets/base",
            "_model_module_version": "1.2.0",
            "_model_name": "LayoutModel",
            "_view_count": null,
            "_view_module": "@jupyter-widgets/base",
            "_view_module_version": "1.2.0",
            "_view_name": "LayoutView",
            "align_content": null,
            "align_items": null,
            "align_self": null,
            "border": null,
            "bottom": null,
            "display": null,
            "flex": null,
            "flex_flow": null,
            "grid_area": null,
            "grid_auto_columns": null,
            "grid_auto_flow": null,
            "grid_auto_rows": null,
            "grid_column": null,
            "grid_gap": null,
            "grid_row": null,
            "grid_template_areas": null,
            "grid_template_columns": null,
            "grid_template_rows": null,
            "height": null,
            "justify_content": null,
            "justify_items": null,
            "left": null,
            "margin": null,
            "max_height": null,
            "max_width": null,
            "min_height": null,
            "min_width": null,
            "object_fit": null,
            "object_position": null,
            "order": null,
            "overflow": null,
            "overflow_x": null,
            "overflow_y": null,
            "padding": null,
            "right": null,
            "top": null,
            "visibility": null,
            "width": null
          }
        },
        "7fa4d99d21f4431bb9643f728792e4eb": {
          "model_module": "@jupyter-widgets/base",
          "model_name": "LayoutModel",
          "model_module_version": "1.2.0",
          "state": {
            "_model_module": "@jupyter-widgets/base",
            "_model_module_version": "1.2.0",
            "_model_name": "LayoutModel",
            "_view_count": null,
            "_view_module": "@jupyter-widgets/base",
            "_view_module_version": "1.2.0",
            "_view_name": "LayoutView",
            "align_content": null,
            "align_items": null,
            "align_self": null,
            "border": null,
            "bottom": null,
            "display": null,
            "flex": null,
            "flex_flow": null,
            "grid_area": null,
            "grid_auto_columns": null,
            "grid_auto_flow": null,
            "grid_auto_rows": null,
            "grid_column": null,
            "grid_gap": null,
            "grid_row": null,
            "grid_template_areas": null,
            "grid_template_columns": null,
            "grid_template_rows": null,
            "height": null,
            "justify_content": null,
            "justify_items": null,
            "left": null,
            "margin": null,
            "max_height": null,
            "max_width": null,
            "min_height": null,
            "min_width": null,
            "object_fit": null,
            "object_position": null,
            "order": null,
            "overflow": null,
            "overflow_x": null,
            "overflow_y": null,
            "padding": null,
            "right": null,
            "top": null,
            "visibility": null,
            "width": null
          }
        },
        "f7384d017ac8465fa04bd59ae1cc0f1a": {
          "model_module": "@jupyter-widgets/controls",
          "model_name": "DescriptionStyleModel",
          "model_module_version": "1.5.0",
          "state": {
            "_model_module": "@jupyter-widgets/controls",
            "_model_module_version": "1.5.0",
            "_model_name": "DescriptionStyleModel",
            "_view_count": null,
            "_view_module": "@jupyter-widgets/base",
            "_view_module_version": "1.2.0",
            "_view_name": "StyleView",
            "description_width": ""
          }
        },
        "db82d900130742dfbc1cb7564fe2a44f": {
          "model_module": "@jupyter-widgets/base",
          "model_name": "LayoutModel",
          "model_module_version": "1.2.0",
          "state": {
            "_model_module": "@jupyter-widgets/base",
            "_model_module_version": "1.2.0",
            "_model_name": "LayoutModel",
            "_view_count": null,
            "_view_module": "@jupyter-widgets/base",
            "_view_module_version": "1.2.0",
            "_view_name": "LayoutView",
            "align_content": null,
            "align_items": null,
            "align_self": null,
            "border": null,
            "bottom": null,
            "display": null,
            "flex": null,
            "flex_flow": null,
            "grid_area": null,
            "grid_auto_columns": null,
            "grid_auto_flow": null,
            "grid_auto_rows": null,
            "grid_column": null,
            "grid_gap": null,
            "grid_row": null,
            "grid_template_areas": null,
            "grid_template_columns": null,
            "grid_template_rows": null,
            "height": null,
            "justify_content": null,
            "justify_items": null,
            "left": null,
            "margin": null,
            "max_height": null,
            "max_width": null,
            "min_height": null,
            "min_width": null,
            "object_fit": null,
            "object_position": null,
            "order": null,
            "overflow": null,
            "overflow_x": null,
            "overflow_y": null,
            "padding": null,
            "right": null,
            "top": null,
            "visibility": null,
            "width": null
          }
        },
        "540e6798d1ee4db090191422077c7448": {
          "model_module": "@jupyter-widgets/controls",
          "model_name": "ProgressStyleModel",
          "model_module_version": "1.5.0",
          "state": {
            "_model_module": "@jupyter-widgets/controls",
            "_model_module_version": "1.5.0",
            "_model_name": "ProgressStyleModel",
            "_view_count": null,
            "_view_module": "@jupyter-widgets/base",
            "_view_module_version": "1.2.0",
            "_view_name": "StyleView",
            "bar_color": null,
            "description_width": ""
          }
        },
        "4c49b2e9069c4b87a18b33180a5f3ad1": {
          "model_module": "@jupyter-widgets/base",
          "model_name": "LayoutModel",
          "model_module_version": "1.2.0",
          "state": {
            "_model_module": "@jupyter-widgets/base",
            "_model_module_version": "1.2.0",
            "_model_name": "LayoutModel",
            "_view_count": null,
            "_view_module": "@jupyter-widgets/base",
            "_view_module_version": "1.2.0",
            "_view_name": "LayoutView",
            "align_content": null,
            "align_items": null,
            "align_self": null,
            "border": null,
            "bottom": null,
            "display": null,
            "flex": null,
            "flex_flow": null,
            "grid_area": null,
            "grid_auto_columns": null,
            "grid_auto_flow": null,
            "grid_auto_rows": null,
            "grid_column": null,
            "grid_gap": null,
            "grid_row": null,
            "grid_template_areas": null,
            "grid_template_columns": null,
            "grid_template_rows": null,
            "height": null,
            "justify_content": null,
            "justify_items": null,
            "left": null,
            "margin": null,
            "max_height": null,
            "max_width": null,
            "min_height": null,
            "min_width": null,
            "object_fit": null,
            "object_position": null,
            "order": null,
            "overflow": null,
            "overflow_x": null,
            "overflow_y": null,
            "padding": null,
            "right": null,
            "top": null,
            "visibility": null,
            "width": null
          }
        },
        "4f49297e9e794c00b0a07c43cf399871": {
          "model_module": "@jupyter-widgets/controls",
          "model_name": "DescriptionStyleModel",
          "model_module_version": "1.5.0",
          "state": {
            "_model_module": "@jupyter-widgets/controls",
            "_model_module_version": "1.5.0",
            "_model_name": "DescriptionStyleModel",
            "_view_count": null,
            "_view_module": "@jupyter-widgets/base",
            "_view_module_version": "1.2.0",
            "_view_name": "StyleView",
            "description_width": ""
          }
        },
        "70f3f080628643978e0f25ed1b33323d": {
          "model_module": "@jupyter-widgets/controls",
          "model_name": "HBoxModel",
          "model_module_version": "1.5.0",
          "state": {
            "_dom_classes": [],
            "_model_module": "@jupyter-widgets/controls",
            "_model_module_version": "1.5.0",
            "_model_name": "HBoxModel",
            "_view_count": null,
            "_view_module": "@jupyter-widgets/controls",
            "_view_module_version": "1.5.0",
            "_view_name": "HBoxView",
            "box_style": "",
            "children": [
              "IPY_MODEL_08862f8c9f97498abc5491ecbd981cd1",
              "IPY_MODEL_29d90f49f58b41c094f14fb07aad96d7",
              "IPY_MODEL_5d70006e44784014abb721815ad731b8"
            ],
            "layout": "IPY_MODEL_e7db9397f22f4dbeab725b445876c3ee"
          }
        },
        "08862f8c9f97498abc5491ecbd981cd1": {
          "model_module": "@jupyter-widgets/controls",
          "model_name": "HTMLModel",
          "model_module_version": "1.5.0",
          "state": {
            "_dom_classes": [],
            "_model_module": "@jupyter-widgets/controls",
            "_model_module_version": "1.5.0",
            "_model_name": "HTMLModel",
            "_view_count": null,
            "_view_module": "@jupyter-widgets/controls",
            "_view_module_version": "1.5.0",
            "_view_name": "HTMLView",
            "description": "",
            "description_tooltip": null,
            "layout": "IPY_MODEL_39de4ff4a4864e01a58a82c9c64654cf",
            "placeholder": "​",
            "style": "IPY_MODEL_204e4d7efd3d4855ab690467ebabfb90",
            "value": "Map: 100%"
          }
        },
        "29d90f49f58b41c094f14fb07aad96d7": {
          "model_module": "@jupyter-widgets/controls",
          "model_name": "FloatProgressModel",
          "model_module_version": "1.5.0",
          "state": {
            "_dom_classes": [],
            "_model_module": "@jupyter-widgets/controls",
            "_model_module_version": "1.5.0",
            "_model_name": "FloatProgressModel",
            "_view_count": null,
            "_view_module": "@jupyter-widgets/controls",
            "_view_module_version": "1.5.0",
            "_view_name": "ProgressView",
            "bar_style": "success",
            "description": "",
            "description_tooltip": null,
            "layout": "IPY_MODEL_d967155da48643ddaba567e555218f56",
            "max": 1,
            "min": 0,
            "orientation": "horizontal",
            "style": "IPY_MODEL_87fd01a0d4fa4630a909152e02f908e7",
            "value": 1
          }
        },
        "5d70006e44784014abb721815ad731b8": {
          "model_module": "@jupyter-widgets/controls",
          "model_name": "HTMLModel",
          "model_module_version": "1.5.0",
          "state": {
            "_dom_classes": [],
            "_model_module": "@jupyter-widgets/controls",
            "_model_module_version": "1.5.0",
            "_model_name": "HTMLModel",
            "_view_count": null,
            "_view_module": "@jupyter-widgets/controls",
            "_view_module_version": "1.5.0",
            "_view_name": "HTMLView",
            "description": "",
            "description_tooltip": null,
            "layout": "IPY_MODEL_479d4d1e37f945a688e4a11043e29c2e",
            "placeholder": "​",
            "style": "IPY_MODEL_be7eed0f633247bf8d677b2accfc9650",
            "value": " 1/1 [00:00&lt;00:00,  6.17 examples/s]"
          }
        },
        "e7db9397f22f4dbeab725b445876c3ee": {
          "model_module": "@jupyter-widgets/base",
          "model_name": "LayoutModel",
          "model_module_version": "1.2.0",
          "state": {
            "_model_module": "@jupyter-widgets/base",
            "_model_module_version": "1.2.0",
            "_model_name": "LayoutModel",
            "_view_count": null,
            "_view_module": "@jupyter-widgets/base",
            "_view_module_version": "1.2.0",
            "_view_name": "LayoutView",
            "align_content": null,
            "align_items": null,
            "align_self": null,
            "border": null,
            "bottom": null,
            "display": null,
            "flex": null,
            "flex_flow": null,
            "grid_area": null,
            "grid_auto_columns": null,
            "grid_auto_flow": null,
            "grid_auto_rows": null,
            "grid_column": null,
            "grid_gap": null,
            "grid_row": null,
            "grid_template_areas": null,
            "grid_template_columns": null,
            "grid_template_rows": null,
            "height": null,
            "justify_content": null,
            "justify_items": null,
            "left": null,
            "margin": null,
            "max_height": null,
            "max_width": null,
            "min_height": null,
            "min_width": null,
            "object_fit": null,
            "object_position": null,
            "order": null,
            "overflow": null,
            "overflow_x": null,
            "overflow_y": null,
            "padding": null,
            "right": null,
            "top": null,
            "visibility": null,
            "width": null
          }
        },
        "39de4ff4a4864e01a58a82c9c64654cf": {
          "model_module": "@jupyter-widgets/base",
          "model_name": "LayoutModel",
          "model_module_version": "1.2.0",
          "state": {
            "_model_module": "@jupyter-widgets/base",
            "_model_module_version": "1.2.0",
            "_model_name": "LayoutModel",
            "_view_count": null,
            "_view_module": "@jupyter-widgets/base",
            "_view_module_version": "1.2.0",
            "_view_name": "LayoutView",
            "align_content": null,
            "align_items": null,
            "align_self": null,
            "border": null,
            "bottom": null,
            "display": null,
            "flex": null,
            "flex_flow": null,
            "grid_area": null,
            "grid_auto_columns": null,
            "grid_auto_flow": null,
            "grid_auto_rows": null,
            "grid_column": null,
            "grid_gap": null,
            "grid_row": null,
            "grid_template_areas": null,
            "grid_template_columns": null,
            "grid_template_rows": null,
            "height": null,
            "justify_content": null,
            "justify_items": null,
            "left": null,
            "margin": null,
            "max_height": null,
            "max_width": null,
            "min_height": null,
            "min_width": null,
            "object_fit": null,
            "object_position": null,
            "order": null,
            "overflow": null,
            "overflow_x": null,
            "overflow_y": null,
            "padding": null,
            "right": null,
            "top": null,
            "visibility": null,
            "width": null
          }
        },
        "204e4d7efd3d4855ab690467ebabfb90": {
          "model_module": "@jupyter-widgets/controls",
          "model_name": "DescriptionStyleModel",
          "model_module_version": "1.5.0",
          "state": {
            "_model_module": "@jupyter-widgets/controls",
            "_model_module_version": "1.5.0",
            "_model_name": "DescriptionStyleModel",
            "_view_count": null,
            "_view_module": "@jupyter-widgets/base",
            "_view_module_version": "1.2.0",
            "_view_name": "StyleView",
            "description_width": ""
          }
        },
        "d967155da48643ddaba567e555218f56": {
          "model_module": "@jupyter-widgets/base",
          "model_name": "LayoutModel",
          "model_module_version": "1.2.0",
          "state": {
            "_model_module": "@jupyter-widgets/base",
            "_model_module_version": "1.2.0",
            "_model_name": "LayoutModel",
            "_view_count": null,
            "_view_module": "@jupyter-widgets/base",
            "_view_module_version": "1.2.0",
            "_view_name": "LayoutView",
            "align_content": null,
            "align_items": null,
            "align_self": null,
            "border": null,
            "bottom": null,
            "display": null,
            "flex": null,
            "flex_flow": null,
            "grid_area": null,
            "grid_auto_columns": null,
            "grid_auto_flow": null,
            "grid_auto_rows": null,
            "grid_column": null,
            "grid_gap": null,
            "grid_row": null,
            "grid_template_areas": null,
            "grid_template_columns": null,
            "grid_template_rows": null,
            "height": null,
            "justify_content": null,
            "justify_items": null,
            "left": null,
            "margin": null,
            "max_height": null,
            "max_width": null,
            "min_height": null,
            "min_width": null,
            "object_fit": null,
            "object_position": null,
            "order": null,
            "overflow": null,
            "overflow_x": null,
            "overflow_y": null,
            "padding": null,
            "right": null,
            "top": null,
            "visibility": null,
            "width": null
          }
        },
        "87fd01a0d4fa4630a909152e02f908e7": {
          "model_module": "@jupyter-widgets/controls",
          "model_name": "ProgressStyleModel",
          "model_module_version": "1.5.0",
          "state": {
            "_model_module": "@jupyter-widgets/controls",
            "_model_module_version": "1.5.0",
            "_model_name": "ProgressStyleModel",
            "_view_count": null,
            "_view_module": "@jupyter-widgets/base",
            "_view_module_version": "1.2.0",
            "_view_name": "StyleView",
            "bar_color": null,
            "description_width": ""
          }
        },
        "479d4d1e37f945a688e4a11043e29c2e": {
          "model_module": "@jupyter-widgets/base",
          "model_name": "LayoutModel",
          "model_module_version": "1.2.0",
          "state": {
            "_model_module": "@jupyter-widgets/base",
            "_model_module_version": "1.2.0",
            "_model_name": "LayoutModel",
            "_view_count": null,
            "_view_module": "@jupyter-widgets/base",
            "_view_module_version": "1.2.0",
            "_view_name": "LayoutView",
            "align_content": null,
            "align_items": null,
            "align_self": null,
            "border": null,
            "bottom": null,
            "display": null,
            "flex": null,
            "flex_flow": null,
            "grid_area": null,
            "grid_auto_columns": null,
            "grid_auto_flow": null,
            "grid_auto_rows": null,
            "grid_column": null,
            "grid_gap": null,
            "grid_row": null,
            "grid_template_areas": null,
            "grid_template_columns": null,
            "grid_template_rows": null,
            "height": null,
            "justify_content": null,
            "justify_items": null,
            "left": null,
            "margin": null,
            "max_height": null,
            "max_width": null,
            "min_height": null,
            "min_width": null,
            "object_fit": null,
            "object_position": null,
            "order": null,
            "overflow": null,
            "overflow_x": null,
            "overflow_y": null,
            "padding": null,
            "right": null,
            "top": null,
            "visibility": null,
            "width": null
          }
        },
        "be7eed0f633247bf8d677b2accfc9650": {
          "model_module": "@jupyter-widgets/controls",
          "model_name": "DescriptionStyleModel",
          "model_module_version": "1.5.0",
          "state": {
            "_model_module": "@jupyter-widgets/controls",
            "_model_module_version": "1.5.0",
            "_model_name": "DescriptionStyleModel",
            "_view_count": null,
            "_view_module": "@jupyter-widgets/base",
            "_view_module_version": "1.2.0",
            "_view_name": "StyleView",
            "description_width": ""
          }
        }
      }
    }
  },
  "cells": [
    {
      "cell_type": "markdown",
      "metadata": {
        "id": "view-in-github",
        "colab_type": "text"
      },
      "source": [
        "<a href=\"https://colab.research.google.com/github/Sarwan-09/AI-Bootcamp-Assig1/blob/main/AI_bootcamp_Assignment_2.ipynb\" target=\"_parent\"><img src=\"https://colab.research.google.com/assets/colab-badge.svg\" alt=\"Open In Colab\"/></a>"
      ]
    },
    {
      "cell_type": "markdown",
      "source": [
        "# About the Dataset"
      ],
      "metadata": {
        "id": "k7pe3ekrhZRh"
      }
    },
    {
      "cell_type": "markdown",
      "source": [
        "\n",
        "The karpathy/tiny_shakespeare dataset contains about 1 million characters of text from Shakespeare's works, such as Hamlet, Macbeth, and Romeo and Juliet. It is often used for training character-level language models, such as GPT-2, to generate text in the Shakespearean style.\n",
        "\n",
        "Key Points:\n",
        "\n",
        "*  Structure: The dataset has three splits: train, validation, and test.\n",
        "\n",
        "*  Format: Each line is a separate text fragment.\n",
        "\n",
        "\n",
        "*  Size: About 1 million characters (small dataset).\n",
        "\n",
        "*  Preprocessing: Character-level tokenization, with no punctuation (only\n",
        "   lowercase letters and spaces).\n",
        "\n",
        "*  Usage: Ideal for text generation tasks or fine-tuning language models to\n",
        "   generate Shakespeare-like text.\n",
        "\n",
        "\n",
        "\n",
        "\n",
        "\n",
        "\n"
      ],
      "metadata": {
        "id": "roWoo7W_hh2m"
      }
    },
    {
      "cell_type": "markdown",
      "source": [
        "### We first import nesseccery libraries"
      ],
      "metadata": {
        "id": "vMf7gpN_IBeu"
      }
    },
    {
      "cell_type": "code",
      "execution_count": null,
      "metadata": {
        "id": "BEqIgwXaXous"
      },
      "outputs": [],
      "source": [
        "from datasets import load_dataset\n",
        "from transformers import GPT2LMHeadModel, GPT2Tokenizer\n",
        "from transformers import TrainingArguments\n",
        "from transformers import Trainer\n",
        "from transformers import pipeline"
      ]
    },
    {
      "cell_type": "markdown",
      "source": [
        "### Importing the dataset"
      ],
      "metadata": {
        "id": "l7krUbkFLAb8"
      }
    },
    {
      "cell_type": "code",
      "source": [
        "dataset = load_dataset(\"karpathy/tiny_shakespeare\")"
      ],
      "metadata": {
        "colab": {
          "base_uri": "https://localhost:8080/"
        },
        "id": "RjmWGbQzIz8h",
        "outputId": "063bc9da-380d-4245-c999-2619f555f7d4"
      },
      "execution_count": null,
      "outputs": [
        {
          "output_type": "stream",
          "name": "stderr",
          "text": [
            "/usr/local/lib/python3.10/dist-packages/huggingface_hub/utils/_auth.py:94: UserWarning: \n",
            "The secret `HF_TOKEN` does not exist in your Colab secrets.\n",
            "To authenticate with the Hugging Face Hub, create a token in your settings tab (https://huggingface.co/settings/tokens), set it as secret in your Google Colab and restart your session.\n",
            "You will be able to reuse this secret in all of your notebooks.\n",
            "Please note that authentication is recommended but still optional to access public models or datasets.\n",
            "  warnings.warn(\n"
          ]
        }
      ]
    },
    {
      "cell_type": "code",
      "source": [
        "dataset"
      ],
      "metadata": {
        "colab": {
          "base_uri": "https://localhost:8080/"
        },
        "id": "apKo9eNZWJfv",
        "outputId": "6a752bfa-63c2-4751-b478-c2f6f565126b"
      },
      "execution_count": null,
      "outputs": [
        {
          "output_type": "execute_result",
          "data": {
            "text/plain": [
              "DatasetDict({\n",
              "    train: Dataset({\n",
              "        features: ['text'],\n",
              "        num_rows: 1\n",
              "    })\n",
              "    validation: Dataset({\n",
              "        features: ['text'],\n",
              "        num_rows: 1\n",
              "    })\n",
              "    test: Dataset({\n",
              "        features: ['text'],\n",
              "        num_rows: 1\n",
              "    })\n",
              "})"
            ]
          },
          "metadata": {},
          "execution_count": 7
        }
      ]
    },
    {
      "cell_type": "markdown",
      "source": [
        "### Load GPT-2"
      ],
      "metadata": {
        "id": "7wd4-zZybL-Y"
      }
    },
    {
      "cell_type": "code",
      "source": [
        "# Loading GPT-2 model and tokenizer\n",
        "model = GPT2LMHeadModel.from_pretrained(\"gpt2\")\n",
        "tokenizer = GPT2Tokenizer.from_pretrained(\"gpt2\")\n",
        "\n",
        "# Setting padding token to EOS (End-of-Sequence) token\n",
        "tokenizer.pad_token = tokenizer.eos_token\n"
      ],
      "metadata": {
        "id": "Csm64t3EWUr1"
      },
      "execution_count": null,
      "outputs": []
    },
    {
      "cell_type": "markdown",
      "source": [
        "### Tokenizer"
      ],
      "metadata": {
        "id": "xbCAeG94LTzw"
      }
    },
    {
      "cell_type": "code",
      "source": [
        "def tokenize_and_align_labels(examples):\n",
        "    tokenized = tokenizer(examples[\"text\"], truncation=True, padding=\"max_length\", max_length=128)\n",
        "\n",
        "    # Adding labels (same as input_ids for causal language modeling)\n",
        "    tokenized[\"labels\"] = tokenized[\"input_ids\"].copy()\n",
        "    return tokenized\n",
        "\n",
        "# Applying the tokenization function to the train, validation, and test datasets\n",
        "train_dataset = dataset[\"train\"].map(tokenize_and_align_labels, batched=True)\n",
        "validation_dataset = dataset[\"validation\"].map(tokenize_and_align_labels, batched=True)\n",
        "test_dataset = dataset[\"test\"].map(tokenize_and_align_labels, batched=True)\n",
        "\n",
        "# Setting the format for PyTorch\n",
        "train_dataset.set_format(type=\"torch\", columns=[\"input_ids\", \"attention_mask\", \"labels\"])\n",
        "validation_dataset.set_format(type=\"torch\", columns=[\"input_ids\", \"attention_mask\", \"labels\"])\n",
        "test_dataset.set_format(type=\"torch\", columns=[\"input_ids\", \"attention_mask\", \"labels\"])\n"
      ],
      "metadata": {
        "colab": {
          "base_uri": "https://localhost:8080/",
          "height": 113,
          "referenced_widgets": [
            "29dcd74c785d45989044aede9a408901",
            "9b2cd0a0d1e74f418b936b596d15df17",
            "be0996be15904f768a3b20fd41c9d4ee",
            "bb240868315e4541bc4d694f1f9e1c43",
            "3083c2a208f147039f771b052f27e503",
            "115bb109e0b7474dad783bf5f1149202",
            "b98fac1132d64182855204034ba50e12",
            "e93ea20d4bee4497aa03b5c772305b02",
            "3388359b483b42fb90748e394b6faaf2",
            "32a1902615ca470cb45a091ba82645ea",
            "c063bf27604f4a9083d369b3dd09aed4",
            "cca9dc838c974ac7b8b69b5183341800",
            "b59edcada623471592959aa0eb7db478",
            "3ea74d5c0e374063998791e08f235b0d",
            "1c72d3cdca8c4c8c900019644f8b5483",
            "c312a1a143f64329a1d42f2a30c17afd",
            "7fa4d99d21f4431bb9643f728792e4eb",
            "f7384d017ac8465fa04bd59ae1cc0f1a",
            "db82d900130742dfbc1cb7564fe2a44f",
            "540e6798d1ee4db090191422077c7448",
            "4c49b2e9069c4b87a18b33180a5f3ad1",
            "4f49297e9e794c00b0a07c43cf399871",
            "70f3f080628643978e0f25ed1b33323d",
            "08862f8c9f97498abc5491ecbd981cd1",
            "29d90f49f58b41c094f14fb07aad96d7",
            "5d70006e44784014abb721815ad731b8",
            "e7db9397f22f4dbeab725b445876c3ee",
            "39de4ff4a4864e01a58a82c9c64654cf",
            "204e4d7efd3d4855ab690467ebabfb90",
            "d967155da48643ddaba567e555218f56",
            "87fd01a0d4fa4630a909152e02f908e7",
            "479d4d1e37f945a688e4a11043e29c2e",
            "be7eed0f633247bf8d677b2accfc9650"
          ]
        },
        "id": "wX2pdXcQK9J5",
        "outputId": "200edf15-a5a3-46db-ba7e-ccf3f6250cc3"
      },
      "execution_count": null,
      "outputs": [
        {
          "output_type": "display_data",
          "data": {
            "text/plain": [
              "Map:   0%|          | 0/1 [00:00<?, ? examples/s]"
            ],
            "application/vnd.jupyter.widget-view+json": {
              "version_major": 2,
              "version_minor": 0,
              "model_id": "29dcd74c785d45989044aede9a408901"
            }
          },
          "metadata": {}
        },
        {
          "output_type": "display_data",
          "data": {
            "text/plain": [
              "Map:   0%|          | 0/1 [00:00<?, ? examples/s]"
            ],
            "application/vnd.jupyter.widget-view+json": {
              "version_major": 2,
              "version_minor": 0,
              "model_id": "cca9dc838c974ac7b8b69b5183341800"
            }
          },
          "metadata": {}
        },
        {
          "output_type": "display_data",
          "data": {
            "text/plain": [
              "Map:   0%|          | 0/1 [00:00<?, ? examples/s]"
            ],
            "application/vnd.jupyter.widget-view+json": {
              "version_major": 2,
              "version_minor": 0,
              "model_id": "70f3f080628643978e0f25ed1b33323d"
            }
          },
          "metadata": {}
        }
      ]
    },
    {
      "cell_type": "markdown",
      "source": [
        "### Define Training Arguments"
      ],
      "metadata": {
        "id": "mueDKfJOMHEu"
      }
    },
    {
      "cell_type": "code",
      "source": [
        "training_args = TrainingArguments(\n",
        "    output_dir=\"./gpt2_shakespeare\",\n",
        "    evaluation_strategy=\"epoch\",\n",
        "    logging_dir=\"./logs\",\n",
        "    save_strategy=\"epoch\",\n",
        "    num_train_epochs=6,\n",
        "    per_device_train_batch_size=2,\n",
        "    per_device_eval_batch_size=2,\n",
        "    logging_steps=100,            )"
      ],
      "metadata": {
        "colab": {
          "base_uri": "https://localhost:8080/"
        },
        "id": "uotbY_WHLyNB",
        "outputId": "dc45edfa-15e0-4b17-a38c-c37b445311a7"
      },
      "execution_count": null,
      "outputs": [
        {
          "output_type": "stream",
          "name": "stderr",
          "text": [
            "/usr/local/lib/python3.10/dist-packages/transformers/training_args.py:1568: FutureWarning: `evaluation_strategy` is deprecated and will be removed in version 4.46 of 🤗 Transformers. Use `eval_strategy` instead\n",
            "  warnings.warn(\n"
          ]
        }
      ]
    },
    {
      "cell_type": "code",
      "source": [
        "trainer = Trainer(\n",
        "    model=model,\n",
        "    args=training_args,\n",
        "    train_dataset=train_dataset,\n",
        "    eval_dataset=validation_dataset,\n",
        "    tokenizer=tokenizer,\n",
        ")"
      ],
      "metadata": {
        "colab": {
          "base_uri": "https://localhost:8080/"
        },
        "id": "X7KXhc7AMNFB",
        "outputId": "cebcdf7b-872f-48ab-a686-48e4f7577fcf"
      },
      "execution_count": null,
      "outputs": [
        {
          "output_type": "stream",
          "name": "stderr",
          "text": [
            "<ipython-input-11-6e80dc5f6253>:1: FutureWarning: `tokenizer` is deprecated and will be removed in version 5.0.0 for `Trainer.__init__`. Use `processing_class` instead.\n",
            "  trainer = Trainer(\n"
          ]
        }
      ]
    },
    {
      "cell_type": "markdown",
      "source": [
        "### Train the Model"
      ],
      "metadata": {
        "id": "GtaDkSDZMiQB"
      }
    },
    {
      "cell_type": "code",
      "source": [
        "trainer.train()"
      ],
      "metadata": {
        "colab": {
          "base_uri": "https://localhost:8080/",
          "height": 437
        },
        "id": "2SwXy7geMYsV",
        "outputId": "0cdf9f49-30fa-406e-d2ea-034dbac64a81"
      },
      "execution_count": null,
      "outputs": [
        {
          "output_type": "stream",
          "name": "stderr",
          "text": [
            "\u001b[34m\u001b[1mwandb\u001b[0m: \u001b[33mWARNING\u001b[0m The `run_name` is currently set to the same value as `TrainingArguments.output_dir`. If this was not intended, please specify a different run name by setting the `TrainingArguments.run_name` parameter.\n",
            "\u001b[34m\u001b[1mwandb\u001b[0m: Using wandb-core as the SDK backend.  Please refer to https://wandb.me/wandb-core for more information.\n",
            "\u001b[34m\u001b[1mwandb\u001b[0m: Currently logged in as: \u001b[33mertc11m210105\u001b[0m (\u001b[33mchiman-salh-erbil-polytechnic-university\u001b[0m). Use \u001b[1m`wandb login --relogin`\u001b[0m to force relogin\n"
          ]
        },
        {
          "output_type": "display_data",
          "data": {
            "text/plain": [
              "<IPython.core.display.HTML object>"
            ],
            "text/html": [
              "Tracking run with wandb version 0.18.7"
            ]
          },
          "metadata": {}
        },
        {
          "output_type": "display_data",
          "data": {
            "text/plain": [
              "<IPython.core.display.HTML object>"
            ],
            "text/html": [
              "Run data is saved locally in <code>/content/wandb/run-20241215_183211-10hexd2x</code>"
            ]
          },
          "metadata": {}
        },
        {
          "output_type": "display_data",
          "data": {
            "text/plain": [
              "<IPython.core.display.HTML object>"
            ],
            "text/html": [
              "Syncing run <strong><a href='https://wandb.ai/chiman-salh-erbil-polytechnic-university/huggingface/runs/10hexd2x' target=\"_blank\">./gpt2_shakespeare</a></strong> to <a href='https://wandb.ai/chiman-salh-erbil-polytechnic-university/huggingface' target=\"_blank\">Weights & Biases</a> (<a href='https://wandb.me/developer-guide' target=\"_blank\">docs</a>)<br/>"
            ]
          },
          "metadata": {}
        },
        {
          "output_type": "display_data",
          "data": {
            "text/plain": [
              "<IPython.core.display.HTML object>"
            ],
            "text/html": [
              " View project at <a href='https://wandb.ai/chiman-salh-erbil-polytechnic-university/huggingface' target=\"_blank\">https://wandb.ai/chiman-salh-erbil-polytechnic-university/huggingface</a>"
            ]
          },
          "metadata": {}
        },
        {
          "output_type": "display_data",
          "data": {
            "text/plain": [
              "<IPython.core.display.HTML object>"
            ],
            "text/html": [
              " View run at <a href='https://wandb.ai/chiman-salh-erbil-polytechnic-university/huggingface/runs/10hexd2x' target=\"_blank\">https://wandb.ai/chiman-salh-erbil-polytechnic-university/huggingface/runs/10hexd2x</a>"
            ]
          },
          "metadata": {}
        },
        {
          "output_type": "display_data",
          "data": {
            "text/plain": [
              "<IPython.core.display.HTML object>"
            ],
            "text/html": [
              "\n",
              "    <div>\n",
              "      \n",
              "      <progress value='6' max='6' style='width:300px; height:20px; vertical-align: middle;'></progress>\n",
              "      [6/6 01:20, Epoch 6/6]\n",
              "    </div>\n",
              "    <table border=\"1\" class=\"dataframe\">\n",
              "  <thead>\n",
              " <tr style=\"text-align: left;\">\n",
              "      <th>Epoch</th>\n",
              "      <th>Training Loss</th>\n",
              "      <th>Validation Loss</th>\n",
              "    </tr>\n",
              "  </thead>\n",
              "  <tbody>\n",
              "    <tr>\n",
              "      <td>1</td>\n",
              "      <td>No log</td>\n",
              "      <td>3.687916</td>\n",
              "    </tr>\n",
              "    <tr>\n",
              "      <td>2</td>\n",
              "      <td>No log</td>\n",
              "      <td>3.418732</td>\n",
              "    </tr>\n",
              "    <tr>\n",
              "      <td>3</td>\n",
              "      <td>No log</td>\n",
              "      <td>3.307358</td>\n",
              "    </tr>\n",
              "    <tr>\n",
              "      <td>4</td>\n",
              "      <td>No log</td>\n",
              "      <td>3.263676</td>\n",
              "    </tr>\n",
              "    <tr>\n",
              "      <td>5</td>\n",
              "      <td>No log</td>\n",
              "      <td>3.236826</td>\n",
              "    </tr>\n",
              "    <tr>\n",
              "      <td>6</td>\n",
              "      <td>No log</td>\n",
              "      <td>3.230690</td>\n",
              "    </tr>\n",
              "  </tbody>\n",
              "</table><p>"
            ]
          },
          "metadata": {}
        },
        {
          "output_type": "execute_result",
          "data": {
            "text/plain": [
              "TrainOutput(global_step=6, training_loss=3.095028877258301, metrics={'train_runtime': 87.39, 'train_samples_per_second': 0.069, 'train_steps_per_second': 0.069, 'total_flos': 391938048000.0, 'train_loss': 3.095028877258301, 'epoch': 6.0})"
            ]
          },
          "metadata": {},
          "execution_count": 12
        }
      ]
    },
    {
      "cell_type": "markdown",
      "source": [
        "### Evaluate the Model"
      ],
      "metadata": {
        "id": "AMGVa0tLboZe"
      }
    },
    {
      "cell_type": "code",
      "source": [
        "eval_results = trainer.evaluate()\n",
        "print(eval_results)"
      ],
      "metadata": {
        "colab": {
          "base_uri": "https://localhost:8080/",
          "height": 54
        },
        "id": "ft_IFWHNZ6me",
        "outputId": "a8773d04-43c1-465a-b52f-6057e98de9d3"
      },
      "execution_count": null,
      "outputs": [
        {
          "output_type": "display_data",
          "data": {
            "text/plain": [
              "<IPython.core.display.HTML object>"
            ],
            "text/html": [
              "\n",
              "    <div>\n",
              "      \n",
              "      <progress value='1' max='1' style='width:300px; height:20px; vertical-align: middle;'></progress>\n",
              "      [1/1 : < :]\n",
              "    </div>\n",
              "    "
            ]
          },
          "metadata": {}
        },
        {
          "output_type": "stream",
          "name": "stdout",
          "text": [
            "{'eval_loss': 3.2306902408599854, 'eval_runtime': 0.0215, 'eval_samples_per_second': 46.507, 'eval_steps_per_second': 46.507, 'epoch': 6.0}\n"
          ]
        }
      ]
    },
    {
      "cell_type": "markdown",
      "source": [
        "- **`eval_loss` = 3.231**: A slight improvement from 3.305, indicating better performance. The model is learning, but there's still room to optimize.\n",
        "- **`eval_runtime` = 0.0215** and **`eval_samples_per_second` = 46.507**: The evaluation is efficient.\n"
      ],
      "metadata": {
        "id": "TtNbaRVVkV19"
      }
    },
    {
      "cell_type": "markdown",
      "source": [
        "![image.png](data:image/png;base64,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)"
      ],
      "metadata": {
        "id": "5B9OKy3wpI1_"
      }
    },
    {
      "cell_type": "markdown",
      "source": [
        "### Input Example"
      ],
      "metadata": {
        "id": "XBZ3RrFtm-qq"
      }
    },
    {
      "cell_type": "code",
      "source": [
        "generator = pipeline(\"text-generation\", model=model, tokenizer=tokenizer)\n",
        "\n",
        "# prompt\n",
        "prompt = \"O Romeo, Romeo! wherefore art thou Romeo?\"\n",
        "generated_text = generator(prompt, max_length=100, num_return_sequences=1 , truncation=True)\n",
        "print(generated_text[0][\"generated_text\"])"
      ],
      "metadata": {
        "colab": {
          "base_uri": "https://localhost:8080/"
        },
        "id": "BgvzlwhOMkyu",
        "outputId": "32dc43d7-2117-4063-bc54-8fee3433c9bc"
      },
      "execution_count": null,
      "outputs": [
        {
          "output_type": "stream",
          "name": "stderr",
          "text": [
            "Hardware accelerator e.g. GPU is available in the environment, but no `device` argument is passed to the `Pipeline` object. Model will be on CPU.\n"
          ]
        },
        {
          "output_type": "stream",
          "name": "stdout",
          "text": [
            "O Romeo, Romeo! wherefore art thou Romeo? Let the wind blow down and we are all together at once in this beautiful hour,\n",
            "\n",
            "Let us all together and let us be in one body at once and to save the world we die in that hour\n",
            "\n",
            "And let the wind blow up let us go and I will be a king that shall rule over all the earth\n",
            "\n",
            "And to hear and you shall hear. And what is this a mighty battle cry,\n",
            "\n",
            "A mighty\n"
          ]
        }
      ]
    },
    {
      "cell_type": "markdown",
      "source": [
        "\n",
        "### Suggestions for Improvement:\n",
        "1. **Tune Hyperparameters**: Experiment with learning rate, batch size, and sequence length to reduce loss.\n",
        "2. **Use Regularization**: Implement dropout or weight decay to avoid overfitting.\n",
        "3. **Larger Dataset**: Fine-tune on a larger corpus or augment your data to improve generalization.\n",
        "4. **Learning Rate Scheduling**: Use a scheduler to decrease the learning rate during training.\n"
      ],
      "metadata": {
        "id": "NIjFyqKYkw5w"
      }
    },
    {
      "cell_type": "markdown",
      "source": [
        "### Steps Taken to Fine-Tune GPT-2 on Shakespeare Dataset:\n",
        "\n",
        "1. **Load the Dataset**:\n",
        "   - Used the `datasets` library to load the `karpathy/tiny_shakespeare` dataset.\n",
        "   - Dataset contained `train`, `validation`, and `test` splits.\n",
        "\n",
        "2. **Tokenization**:\n",
        "   - Loaded GPT-2 tokenizer using `transformers`.\n",
        "   - Set the padding token to the EOS token (GPT-2 doesn't have a default padding token).\n",
        "   - Tokenized the Shakespeare text into input IDs and attention masks.\n",
        "\n",
        "3. **Preprocessing**:\n",
        "   - Created labels by shifting the input tokens by one position to predict the next token.\n",
        "   - Padded/truncated the tokenized sequences to a fixed maximum length.\n",
        "\n",
        "4. **Data Preparation**:\n",
        "   - Converted the tokenized dataset into PyTorch tensors using the `DataCollatorForLanguageModeling` for dynamic padding.\n",
        "\n",
        "5. **Define Model and Training**:\n",
        "   - Loaded the pre-trained GPT-2 model (`gpt2`).\n",
        "   - Used the `Trainer` API to set up training with:\n",
        "     - TrainingArguments (e.g., batch size, learning rate, epochs).\n",
        "     - Train and evaluation datasets.\n",
        "     - Evaluation strategy set to `epoch`.\n",
        "\n",
        "6. **Training**:\n",
        "   - Fine-tuned GPT-2 on the Shakespeare dataset.\n",
        "   - Monitored training and validation loss at each epoch.\n",
        "\n",
        "7. **Evaluation**:\n",
        "   - Evaluated the model on the validation set to calculate `eval_loss`.\n",
        "   - Adjusted hyperparameters for improved performance.\n",
        "\n",
        "8. **Text Generation**:\n",
        "   - Used the fine-tuned model to generate Shakespeare-like text by providing a prompt and sampling the output.\n",
        "\n",
        "### Key Tools:\n",
        "- `datasets`, `transformers` (Hugging Face library)\n",
        "- PyTorch\n",
        "- `Trainer` API for simplified fine-tuning and evaluation"
      ],
      "metadata": {
        "id": "3LN4tNTin_70"
      }
    }
  ]
}