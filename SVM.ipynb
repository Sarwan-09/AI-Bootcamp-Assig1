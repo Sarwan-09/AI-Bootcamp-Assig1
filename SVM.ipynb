{
 "cells": [
  {
   "cell_type": "markdown",
   "id": "8c97db08-de97-4980-8874-be917ea232be",
   "metadata": {},
   "source": [
    "## SVM with Grid Search and Cross Validation"
   ]
  },
  {
   "cell_type": "code",
   "execution_count": null,
   "id": "80e41fe3-1810-4b8e-8606-8780b82c6e2f",
   "metadata": {},
   "outputs": [],
   "source": [
    "import pandas as pd \n",
    "import numpy as np \n",
    "import matplotlib.pyplot as plt"
   ]
  },
  {
   "cell_type": "code",
   "execution_count": null,
   "id": "811a4a6d-b681-4a8a-95ee-d2bb64900f8a",
   "metadata": {},
   "outputs": [],
   "source": [
    "df_train = pd.read_csv(\"Cleaned_Train.csv\")\n",
    "df_test = pd.read_csv(\"Cleaned_Test.csv\")"
   ]
  },
  {
   "cell_type": "code",
   "execution_count": 34,
   "id": "7851a793-5b33-4586-92da-be4eb5db0ff5",
   "metadata": {},
   "outputs": [
    {
     "name": "stdout",
     "output_type": "stream",
     "text": [
      "Fitting 5 folds for each of 48 candidates, totalling 240 fits\n",
      "Best Parameters from Grid Search: {'C': 1, 'gamma': 'scale', 'kernel': 'rbf'}\n",
      "Best Cross-validation Score from Grid Search: 0.8314291342460358\n",
      "\n",
      "Classification Report:\n",
      "              precision    recall  f1-score   support\n",
      "\n",
      "         0.0       0.81      0.90      0.86       105\n",
      "         1.0       0.84      0.70      0.76        74\n",
      "\n",
      "    accuracy                           0.82       179\n",
      "   macro avg       0.83      0.80      0.81       179\n",
      "weighted avg       0.82      0.82      0.82       179\n",
      "\n"
     ]
    }
   ],
   "source": [
    "from sklearn.svm import SVC\n",
    "from sklearn.model_selection import GridSearchCV, cross_val_score, train_test_split\n",
    "from sklearn.preprocessing import StandardScaler\n",
    "import pandas as pd\n",
    "\n",
    "df_train['Age'].fillna(df_train['Age'].median(), inplace=True)\n",
    "df_train['Embarked'].fillna(df_train['Embarked'].mode()[0], inplace=True)\n",
    "\n",
    "# Encode categorical features ('Sex' and 'Embarked')\n",
    "df_train['Sex'] = df_train['Sex'].map({'male': 0, 'female': 1})\n",
    "df_train = pd.get_dummies(df_train, columns=['Embarked'], drop_first=True)\n",
    "\n",
    "X = df_train[['Pclass', 'Sex', 'Age', 'SibSp', 'Parch', 'Fare', 'Embarked_Q', 'Embarked_S']]\n",
    "y = df_train['Survived']\n",
    "\n",
    "# Split into training and validation sets\n",
    "X_train, X_val, y_train, y_val = train_test_split(X, y, test_size=0.2, random_state=42)\n",
    "\n",
    "scaler = StandardScaler()\n",
    "X_train_scaled = scaler.fit_transform(X_train)\n",
    "X_val_scaled = scaler.transform(X_val)\n",
    "\n",
    "param_grid = {\n",
    "    'C': [0.1, 1, 10, 100],\n",
    "    'kernel': ['linear', 'rbf', 'poly'],\n",
    "    'gamma': ['scale', 'auto', 0.1, 1]\n",
    "}\n",
    "\n",
    "grid_search = GridSearchCV(SVC(), param_grid, cv=5, scoring='accuracy', verbose=1)\n",
    "\n",
    "grid_search.fit(X_train_scaled, y_train)\n",
    "\n",
    "print(\"Best Parameters from Grid Search:\", grid_search.best_params_)\n",
    "print(\"Best Cross-validation Score from Grid Search:\", grid_search.best_score_)\n",
    "\n",
    "best_svm = grid_search.best_estimator_\n",
    "\n",
    "y_pred = best_svm.predict(X_val_scaled)\n",
    "from sklearn.metrics import classification_report\n",
    "\n",
    "print(\"\\nClassification Report:\")\n",
    "print(classification_report(y_val, y_pred))"
   ]
  },
  {
   "cell_type": "markdown",
   "id": "ef4c392c-028e-4ca9-a66c-9caa5dc16b08",
   "metadata": {},
   "source": [
    "## Pridection"
   ]
  },
  {
   "cell_type": "code",
   "execution_count": 38,
   "id": "0e359a06-715b-49b7-bf06-cddffcf14d2f",
   "metadata": {},
   "outputs": [
    {
     "data": {
      "text/html": [
       "<style type=\"text/css\">\n",
       "</style>\n",
       "<table id=\"T_2cacb\">\n",
       "  <thead>\n",
       "    <tr>\n",
       "      <th class=\"blank level0\" >&nbsp;</th>\n",
       "      <th id=\"T_2cacb_level0_col0\" class=\"col_heading level0 col0\" >Pclass</th>\n",
       "      <th id=\"T_2cacb_level0_col1\" class=\"col_heading level0 col1\" >Sex</th>\n",
       "      <th id=\"T_2cacb_level0_col2\" class=\"col_heading level0 col2\" >Age</th>\n",
       "      <th id=\"T_2cacb_level0_col3\" class=\"col_heading level0 col3\" >SibSp</th>\n",
       "      <th id=\"T_2cacb_level0_col4\" class=\"col_heading level0 col4\" >Parch</th>\n",
       "      <th id=\"T_2cacb_level0_col5\" class=\"col_heading level0 col5\" >Fare</th>\n",
       "      <th id=\"T_2cacb_level0_col6\" class=\"col_heading level0 col6\" >Embarked_S</th>\n",
       "      <th id=\"T_2cacb_level0_col7\" class=\"col_heading level0 col7\" >Embarked_Q</th>\n",
       "      <th id=\"T_2cacb_level0_col8\" class=\"col_heading level0 col8\" >Predicted_Survived</th>\n",
       "    </tr>\n",
       "  </thead>\n",
       "  <tbody>\n",
       "    <tr>\n",
       "      <th id=\"T_2cacb_level0_row0\" class=\"row_heading level0 row0\" >0</th>\n",
       "      <td id=\"T_2cacb_row0_col0\" class=\"data row0 col0\" >1</td>\n",
       "      <td id=\"T_2cacb_row0_col1\" class=\"data row0 col1\" >1</td>\n",
       "      <td id=\"T_2cacb_row0_col2\" class=\"data row0 col2\" >25.0</td>\n",
       "      <td id=\"T_2cacb_row0_col3\" class=\"data row0 col3\" >0</td>\n",
       "      <td id=\"T_2cacb_row0_col4\" class=\"data row0 col4\" >0</td>\n",
       "      <td id=\"T_2cacb_row0_col5\" class=\"data row0 col5\" >71.28</td>\n",
       "      <td id=\"T_2cacb_row0_col6\" class=\"data row0 col6\" >False</td>\n",
       "      <td id=\"T_2cacb_row0_col7\" class=\"data row0 col7\" >0</td>\n",
       "      <td id=\"T_2cacb_row0_col8\" class=\"data row0 col8\" >1.000000</td>\n",
       "    </tr>\n",
       "    <tr>\n",
       "      <th id=\"T_2cacb_level0_row1\" class=\"row_heading level0 row1\" >1</th>\n",
       "      <td id=\"T_2cacb_row1_col0\" class=\"data row1 col0\" >3</td>\n",
       "      <td id=\"T_2cacb_row1_col1\" class=\"data row1 col1\" >0</td>\n",
       "      <td id=\"T_2cacb_row1_col2\" class=\"data row1 col2\" >30.0</td>\n",
       "      <td id=\"T_2cacb_row1_col3\" class=\"data row1 col3\" >1</td>\n",
       "      <td id=\"T_2cacb_row1_col4\" class=\"data row1 col4\" >0</td>\n",
       "      <td id=\"T_2cacb_row1_col5\" class=\"data row1 col5\" >7.92</td>\n",
       "      <td id=\"T_2cacb_row1_col6\" class=\"data row1 col6\" >True</td>\n",
       "      <td id=\"T_2cacb_row1_col7\" class=\"data row1 col7\" >0</td>\n",
       "      <td id=\"T_2cacb_row1_col8\" class=\"data row1 col8\" >0.000000</td>\n",
       "    </tr>\n",
       "    <tr>\n",
       "      <th id=\"T_2cacb_level0_row2\" class=\"row_heading level0 row2\" >2</th>\n",
       "      <td id=\"T_2cacb_row2_col0\" class=\"data row2 col0\" >2</td>\n",
       "      <td id=\"T_2cacb_row2_col1\" class=\"data row2 col1\" >1</td>\n",
       "      <td id=\"T_2cacb_row2_col2\" class=\"data row2 col2\" >22.0</td>\n",
       "      <td id=\"T_2cacb_row2_col3\" class=\"data row2 col3\" >0</td>\n",
       "      <td id=\"T_2cacb_row2_col4\" class=\"data row2 col4\" >0</td>\n",
       "      <td id=\"T_2cacb_row2_col5\" class=\"data row2 col5\" >26.00</td>\n",
       "      <td id=\"T_2cacb_row2_col6\" class=\"data row2 col6\" >True</td>\n",
       "      <td id=\"T_2cacb_row2_col7\" class=\"data row2 col7\" >0</td>\n",
       "      <td id=\"T_2cacb_row2_col8\" class=\"data row2 col8\" >1.000000</td>\n",
       "    </tr>\n",
       "  </tbody>\n",
       "</table>\n"
      ],
      "text/plain": [
       "<pandas.io.formats.style.Styler at 0x17fd5da3cd0>"
      ]
     },
     "execution_count": 38,
     "metadata": {},
     "output_type": "execute_result"
    }
   ],
   "source": [
    "df_new = pd.DataFrame({\n",
    "    'Pclass': [1, 3, 2], \n",
    "    'Sex': ['female', 'male', 'female'],\n",
    "    'Age': [25, 30, 22],\n",
    "    'SibSp': [0, 1, 0],\n",
    "    'Parch': [0, 0, 0],\n",
    "    'Fare': [71.2833, 7.9250, 26.0],\n",
    "    'Embarked': ['C', 'S', 'S']\n",
    "})\n",
    "\n",
    "# Preprocess the new data (handle missing values and encode categorical variables)\n",
    "df_new['Sex'] = df_new['Sex'].map({'male': 0, 'female': 1})\n",
    "df_new = pd.get_dummies(df_new, columns=['Embarked'], drop_first=True)\n",
    "\n",
    "for col in ['Embarked_Q', 'Embarked_S']:\n",
    "    if col not in df_new.columns:\n",
    "        df_new[col] = 0  # If a column is missing, add it with default value 0\n",
    "\n",
    "\n",
    "df_new_scaled = scaler.transform(df_new[['Pclass', 'Sex', 'Age', 'SibSp', 'Parch', 'Fare', 'Embarked_Q', 'Embarked_S']])\n",
    "\n",
    "y_new_pred = best_svm.predict(df_new_scaled)\n",
    "\n",
    "df_new['Predicted_Survived'] = y_new_pred\n",
    "styled_df = df_new.style.format({\n",
    "    'Age': '{:.1f}',  \n",
    "    'Fare': '{:.2f}',  \n",
    "    'Predicted Survival': lambda x: 'Survived' if x == 1 else 'Not Survived'  # Convert 1/0 to \"Survived\" or \"Not Survived\"\n",
    "})\n",
    "\n",
    "styled_df\n"
   ]
  }
 ],
 "metadata": {
  "kernelspec": {
   "display_name": "Python 3 (ipykernel)",
   "language": "python",
   "name": "python3"
  },
  "language_info": {
   "codemirror_mode": {
    "name": "ipython",
    "version": 3
   },
   "file_extension": ".py",
   "mimetype": "text/x-python",
   "name": "python",
   "nbconvert_exporter": "python",
   "pygments_lexer": "ipython3",
   "version": "3.11.7"
  },
  "widgets": {
   "application/vnd.jupyter.widget-state+json": {
    "state": {},
    "version_major": 2,
    "version_minor": 0
   }
  }
 },
 "nbformat": 4,
 "nbformat_minor": 5
}
